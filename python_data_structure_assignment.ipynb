{
  "nbformat": 4,
  "nbformat_minor": 0,
  "metadata": {
    "colab": {
      "provenance": []
    },
    "kernelspec": {
      "name": "python3",
      "display_name": "Python 3"
    },
    "language_info": {
      "name": "python"
    }
  },
  "cells": [
    {
      "cell_type": "markdown",
      "source": [
        "# **DATA STRUCTURE ASSIGNMENT**\n",
        "*Theory Questions*"
      ],
      "metadata": {
        "id": "vwUg3w8OZigj"
      }
    },
    {
      "cell_type": "markdown",
      "source": [
        "Q1.  What are data structures, and why are they important.\n",
        "- Data structures are specialized formats for organizing, processing, and storing data in a computer. They enable efficient data management and manipulation, allowing for optimized performance in algorithms.\n",
        "- Data structures are important because they provide a means to manage large amounts of data efficiently, facilitate data retrieval, and improve the performance of software applications."
      ],
      "metadata": {
        "id": "SGObv0RkZ5fr"
      }
    },
    {
      "cell_type": "markdown",
      "source": [
        "Q2.  Explain the difference between mutable and immutable data types with examples.\n",
        "- Mutable Data Types: These are data types that can be changed after they are created. Examples include lists and dictionaries.\n",
        "\n",
        "\n",
        "\n"
      ],
      "metadata": {
        "id": "7i3RVkBtaM59"
      }
    },
    {
      "cell_type": "code",
      "source": [
        "my_list = [1, 2, 3]\n",
        "my_list[0] = 10  # my_list is now [10, 2, 3]"
      ],
      "metadata": {
        "id": "EUuZksoEbiXV"
      },
      "execution_count": 1,
      "outputs": []
    },
    {
      "cell_type": "markdown",
      "source": [
        "- Immutable Data Types: These are data types that cannot be changed after they are created. Examples include strings and tuples."
      ],
      "metadata": {
        "id": "l1OpUXJFbtXI"
      }
    },
    {
      "cell_type": "code",
      "source": [
        "my_tuple = (1, 2, 3)\n",
        "# my_tuple[0] = 10  # This will raise a TypeError"
      ],
      "metadata": {
        "id": "TOHfI8ZYbmC4"
      },
      "execution_count": null,
      "outputs": []
    },
    {
      "cell_type": "markdown",
      "source": [
        "Q3.  What are the main differences between lists and tuples in Python.\n",
        "   - Main Differences Between Lists and Tuples in Python\n",
        "\n",
        "- Mutability: Lists are mutable, while tuples are immutable.\n",
        "\n",
        "- Syntax: Lists are defined using square brackets [], while tuples use parentheses ().\n",
        "\n",
        "- Performance: Tuples can be slightly faster than lists for iteration due to their immutability.\n",
        "\n",
        "- Use Cases: Lists are used for collections of items that may change, while tuples are often used for fixed collections of items."
      ],
      "metadata": {
        "id": "vUS5AOgCaxgX"
      }
    },
    {
      "cell_type": "markdown",
      "source": [
        "Q4.  Describe how dictionaries store data.\n",
        "- Dictionaries in Python store data in key-value pairs. Each key is unique and is used to access its corresponding value. Internally, dictionaries use a hash table to manage these pairs, allowing for average-case constant time complexity for lookups, insertions, and deletions."
      ],
      "metadata": {
        "id": "L_qaC_blb7D1"
      }
    },
    {
      "cell_type": "markdown",
      "source": [
        "Q5. Why might you use a set instead of a list in Python.\n",
        "- Sets are used when you need to store unique items and do not care about the order of elements. They automatically handle duplicate values, making them ideal for membership tests and eliminating duplicates from a collection."
      ],
      "metadata": {
        "id": "lSOYQlp9cHjs"
      }
    },
    {
      "cell_type": "markdown",
      "source": [
        "Q6.  What is a string in Python, and how is it different from a list.\n",
        "- A string in Python is a sequence of characters enclosed in quotes. Unlike lists, strings are immutable, meaning you cannot change their content after creation. In contrast, lists can contain multiple data types and can be modified."
      ],
      "metadata": {
        "id": "lBSX6BBXcUvo"
      }
    },
    {
      "cell_type": "markdown",
      "source": [
        "Q7.  How do tuples ensure data integrity in Python.\n",
        "- Tuples ensure data integrity by being immutable. Once a tuple is created, its contents cannot be altered, which prevents accidental changes to the data. This is particularly useful when you want to ensure that a collection of values remains constant throughout the program."
      ],
      "metadata": {
        "id": "W6qmG6zxciUA"
      }
    },
    {
      "cell_type": "markdown",
      "source": [
        "Q8. What is a hash table, and how does it relate to dictionaries in Python.\n",
        "- A hash table is a data structure that implements an associative array, a structure that can map keys to values. In Python, dictionaries are implemented using hash tables, allowing for efficient data retrieval based on unique keys."
      ],
      "metadata": {
        "id": "IqG3-EztcsVT"
      }
    },
    {
      "cell_type": "markdown",
      "source": [
        "Q9. Can lists contain different data types in Python.\n",
        "- Yes, lists in Python can contain elements of different data types."
      ],
      "metadata": {
        "id": "H9YqSw-rc8CG"
      }
    },
    {
      "cell_type": "markdown",
      "source": [
        "Q10.  Explain why strings are immutable in Python.\n",
        "- Strings are immutable in Python to ensure that they can be safely shared across different parts of a program without the risk of unintended modifications. This immutability also allows for optimizations in memory usage and performance."
      ],
      "metadata": {
        "id": "fXTEGkdgdR0f"
      }
    },
    {
      "cell_type": "markdown",
      "source": [
        "Q11. What advantages do dictionaries offer over lists for certain tasks.\n",
        "- Dictionaries offer several advantages over lists:\n",
        "\n",
        "- Fast Lookups: Accessing values by key is generally faster than searching through a list.\n",
        "- Unique Keys: They automatically handle uniqueness, preventing duplicate keys.\n",
        "- Associative Mapping: They allow for more meaningful data representation by associating values with keys."
      ],
      "metadata": {
        "id": "5gk61f1adbbA"
      }
    },
    {
      "cell_type": "markdown",
      "source": [
        "Q12. Describe a scenario where using a tuple would be preferable over a list.\n",
        "- Using a tuple would be preferable when you want to store a fixed collection of items that should not change, such as coordinates (x, y) or RGB color values. For example:"
      ],
      "metadata": {
        "id": "Fl0yEyuydu1S"
      }
    },
    {
      "cell_type": "code",
      "source": [
        "point = (10, 20)  # Represents a fixed point in 2D space"
      ],
      "metadata": {
        "id": "YMyTF2_MeCXa"
      },
      "execution_count": null,
      "outputs": []
    },
    {
      "cell_type": "markdown",
      "source": [
        " Q13. How do sets handle duplicate values in Python\n",
        " - Sets automatically eliminate duplicate values. When you add an item to a set, if that item already exists, it will not be added again. For example:"
      ],
      "metadata": {
        "id": "X8HBXj-0eFyo"
      }
    },
    {
      "cell_type": "code",
      "source": [
        "my_set = {1, 2, 2, 3}  # my_set will be {1, 2, 3}"
      ],
      "metadata": {
        "id": "rvWHLLl5eSH4"
      },
      "execution_count": null,
      "outputs": []
    },
    {
      "cell_type": "markdown",
      "source": [
        "Q14. How does the “in” keyword work differently for lists and dictionaries.\n",
        "- For Lists: The in keyword checks for the presence of a specific value within the list. It returns True if the value exists and False otherwise. For example:"
      ],
      "metadata": {
        "id": "8DOFaolQeUl_"
      }
    },
    {
      "cell_type": "code",
      "source": [
        "my_list = [1, 2, 3, 4]\n",
        "print(2 in my_list)  # Output: True\n",
        "print(5 in my_list)  # Output: False"
      ],
      "metadata": {
        "colab": {
          "base_uri": "https://localhost:8080/"
        },
        "id": "vo3HErRPen1K",
        "outputId": "9208ecdb-36fa-42fb-9ae3-65d291a9b0db"
      },
      "execution_count": null,
      "outputs": [
        {
          "output_type": "stream",
          "name": "stdout",
          "text": [
            "True\n",
            "False\n"
          ]
        }
      ]
    },
    {
      "cell_type": "markdown",
      "source": [
        "- For Dictionaries: The in keyword checks for the presence of a specific key in the dictionary, not the value. It returns True if the key exists and False otherwise. For example:"
      ],
      "metadata": {
        "id": "SNOzZSwcepu5"
      }
    },
    {
      "cell_type": "code",
      "source": [
        "my_dict = {'a': 1, 'b': 2}\n",
        "print('a' in my_dict)  # Output: True\n",
        "print(1 in my_dict)     # Output: False (1 is a value, not a key)"
      ],
      "metadata": {
        "colab": {
          "base_uri": "https://localhost:8080/"
        },
        "id": "790JISiOet0E",
        "outputId": "7d3f40d4-5a9a-40b5-ea88-a95bd182fdd6"
      },
      "execution_count": null,
      "outputs": [
        {
          "output_type": "stream",
          "name": "stdout",
          "text": [
            "True\n",
            "False\n"
          ]
        }
      ]
    },
    {
      "cell_type": "markdown",
      "source": [
        "Q15.  Can you modify the elements of a tuple? Explain why or why not.\n",
        "- No, you cannot modify the elements of a tuple. Tuples are immutable, meaning that once they are created, their contents cannot be changed. This immutability is by design, allowing tuples to be used as keys in dictionaries and ensuring that the data they contain remains constant throughout the program. If you need to change the contents, you would have to create a new tuple."
      ],
      "metadata": {
        "id": "_NZE8l_-ew1Q"
      }
    },
    {
      "cell_type": "markdown",
      "source": [
        "Q16. What is a nested dictionary, and give an example of its use case.\n",
        "- A nested dictionary is a dictionary that contains other dictionaries as its values. This structure allows for the representation of more complex data relationships.\n",
        "- In this example, each student's name is a key, and their grades in different subjects are stored in a nested dictionary."
      ],
      "metadata": {
        "id": "Qe4dBmgQe8As"
      }
    },
    {
      "cell_type": "code",
      "source": [
        "students = {\n",
        "    'Alia': {'Math': 90, 'Science': 85},\n",
        "    'Bobby': {'Math': 75, 'Science': 80},\n",
        "    'Chahat': {'Math': 95, 'Science': 90}\n",
        "}"
      ],
      "metadata": {
        "id": "QUyPufaSfLdn"
      },
      "execution_count": null,
      "outputs": []
    },
    {
      "cell_type": "markdown",
      "source": [
        "Q17. Describe the time complexity of accessing elements in a dictionary.\n",
        "- The average time complexity for accessing elements in a dictionary is O(1) due to the underlying hash table implementation. This means that, on average, it takes constant time to retrieve a value given its key. However, in the worst-case scenario (e.g., many collisions), the time complexity can degrade to O(n), where n is the number of entries in the dictionary."
      ],
      "metadata": {
        "id": "QPHMmJRKfby4"
      }
    },
    {
      "cell_type": "markdown",
      "source": [
        "Q18.  In what situations are lists preferred over dictionaries.\n",
        "- Lists are preferred over dictionaries in situations where:\n",
        "\n",
        "- Order Matters: If the order of elements is important, lists are the better choice since they maintain the order of insertion.\n",
        "- Index-Based Access: When you need to access elements by their position (index) rather than by a key.\n",
        "- Simple Collections: When you have a simple collection of items without the need for key-value pairs, lists are more straightforward."
      ],
      "metadata": {
        "id": "6syUgTG-fozB"
      }
    },
    {
      "cell_type": "markdown",
      "source": [
        "Q19. Why are dictionaries considered unordered, and how does that affect data retrieval.\n",
        "- Dictionaries are considered unordered because, prior to Python 3.7, they did not maintain the order of elements. Even though Python 3.7 and later versions maintain insertion order, the concept of \"unordered\" refers to the fact that you access values via keys rather than by position. This affects data retrieval in that you cannot rely on the order of items when iterating through a dictionary; you must use keys to access values.\n"
      ],
      "metadata": {
        "id": "NGt-1iG2f3aE"
      }
    },
    {
      "cell_type": "markdown",
      "source": [
        "Q20.  Explain the difference between a list and a dictionary in terms of data retrieval.\n",
        "- Lists: Data retrieval is done using an index. You access elements by their position in the list, which is zero-based. For example:\n"
      ],
      "metadata": {
        "id": "LkMqgZqrgEbW"
      }
    },
    {
      "cell_type": "code",
      "source": [
        "my_list = [10, 20, 30]\n",
        "print(my_list[1])  # Output: 20"
      ],
      "metadata": {
        "colab": {
          "base_uri": "https://localhost:8080/"
        },
        "id": "xS80lDGIgfB8",
        "outputId": "2de2d5a7-0590-4016-834c-57f653f20afc"
      },
      "execution_count": null,
      "outputs": [
        {
          "output_type": "stream",
          "name": "stdout",
          "text": [
            "20\n"
          ]
        }
      ]
    },
    {
      "cell_type": "markdown",
      "source": [
        "Dictionaries: Data retrieval is done using keys. You access values by their associated keys, which can be of various immutable types (like strings or numbers). For example:\n",
        "\n"
      ],
      "metadata": {
        "id": "432AbUV9ghhC"
      }
    },
    {
      "cell_type": "code",
      "source": [
        "my_dict = {'a': 1, 'b': 2}\n",
        "print(my_dict['b'])  # Output: 2"
      ],
      "metadata": {
        "colab": {
          "base_uri": "https://localhost:8080/"
        },
        "id": "DD0PBen6gmu3",
        "outputId": "b1c91c16-b2fa-412b-e7e4-f8260675d12f"
      },
      "execution_count": null,
      "outputs": [
        {
          "output_type": "stream",
          "name": "stdout",
          "text": [
            "2\n"
          ]
        }
      ]
    },
    {
      "cell_type": "markdown",
      "source": [
        "*Practical Questions*"
      ],
      "metadata": {
        "id": "B3eXZ9nKhLF4"
      }
    },
    {
      "cell_type": "code",
      "source": [
        "# Q1. Write a code to create a string with your name and print it\n",
        "my_name = \"Roshi\"\n",
        "print(my_name)"
      ],
      "metadata": {
        "colab": {
          "base_uri": "https://localhost:8080/"
        },
        "id": "FfH4R7R_9OWN",
        "outputId": "867e672e-f8da-4321-864b-e499852656d9"
      },
      "execution_count": 3,
      "outputs": [
        {
          "output_type": "stream",
          "name": "stdout",
          "text": [
            "Roshi\n"
          ]
        }
      ]
    },
    {
      "cell_type": "code",
      "source": [
        "# Q2.  Write a code to find the length of the string \"Hello World\"\n",
        "hello_world = \"Hello World\"\n",
        "length = len(hello_world)\n",
        "print(length)"
      ],
      "metadata": {
        "colab": {
          "base_uri": "https://localhost:8080/"
        },
        "id": "UetY24Ol-NLt",
        "outputId": "2709ca19-fcdc-4129-b6e9-59622245487a"
      },
      "execution_count": 4,
      "outputs": [
        {
          "output_type": "stream",
          "name": "stdout",
          "text": [
            "11\n"
          ]
        }
      ]
    },
    {
      "cell_type": "code",
      "source": [
        "# Q3.  Write a code to slice the first 3 characters from the string \"Python Programming\"\n",
        "python_string = \"Python Programming\"\n",
        "sliced_string = python_string[:3]\n",
        "print(sliced_string)"
      ],
      "metadata": {
        "colab": {
          "base_uri": "https://localhost:8080/"
        },
        "id": "emfi1mrj-fy_",
        "outputId": "b266bfbb-45e2-43e7-e5e1-47f501c7694c"
      },
      "execution_count": 5,
      "outputs": [
        {
          "output_type": "stream",
          "name": "stdout",
          "text": [
            "Pyt\n"
          ]
        }
      ]
    },
    {
      "cell_type": "code",
      "source": [
        "# Q4.  Write a code to convert the string \"hello\" to uppercase\n",
        "hello = \"hello\"\n",
        "uppercase_hello = hello.upper()\n",
        "print(uppercase_hello)"
      ],
      "metadata": {
        "colab": {
          "base_uri": "https://localhost:8080/"
        },
        "id": "2Tn9kBEN-uCB",
        "outputId": "3f6fd8c4-4453-4482-bd07-c1b0f3fa93b2"
      },
      "execution_count": 6,
      "outputs": [
        {
          "output_type": "stream",
          "name": "stdout",
          "text": [
            "HELLO\n"
          ]
        }
      ]
    },
    {
      "cell_type": "code",
      "source": [
        "# Q5.  Write a code to replace the word \"apple\" with \"orange\" in the string \"I like apple\"\n",
        "original_string = \"I like apple\"\n",
        "replaced_string = original_string.replace(\"apple\", \"orange\")\n",
        "print(replaced_string)"
      ],
      "metadata": {
        "colab": {
          "base_uri": "https://localhost:8080/"
        },
        "id": "Gg6WdBE8-0lm",
        "outputId": "ac4fd274-adaa-4475-be65-38be3a44755b"
      },
      "execution_count": 7,
      "outputs": [
        {
          "output_type": "stream",
          "name": "stdout",
          "text": [
            "I like orange\n"
          ]
        }
      ]
    },
    {
      "cell_type": "code",
      "source": [
        "# Q6.  Write a code to create a list with numbers 1 to 5 and print it\n",
        "number_list = [1, 2, 3, 4, 5]\n",
        "print(number_list)"
      ],
      "metadata": {
        "colab": {
          "base_uri": "https://localhost:8080/"
        },
        "id": "X2SSinUJ-83t",
        "outputId": "b407d4a1-e047-4e48-c409-a91044899379"
      },
      "execution_count": 8,
      "outputs": [
        {
          "output_type": "stream",
          "name": "stdout",
          "text": [
            "[1, 2, 3, 4, 5]\n"
          ]
        }
      ]
    },
    {
      "cell_type": "code",
      "source": [
        "# Q7.  Write a code to append the number 10 to the list [1, 2, 3, 4]\n",
        "my_list = [1, 2, 3, 4]\n",
        "my_list.append(10)\n",
        "print(my_list)"
      ],
      "metadata": {
        "colab": {
          "base_uri": "https://localhost:8080/"
        },
        "id": "PdCLGbYQ_FBB",
        "outputId": "36d70beb-0dae-4881-c196-8bf1020083a5"
      },
      "execution_count": 9,
      "outputs": [
        {
          "output_type": "stream",
          "name": "stdout",
          "text": [
            "[1, 2, 3, 4, 10]\n"
          ]
        }
      ]
    },
    {
      "cell_type": "code",
      "source": [
        "# Q8.  Write a code to remove the number 3 from the list [1, 2, 3, 4, 5]\n",
        "another_list = [1, 2, 3, 4, 5]\n",
        "another_list.remove(3)\n",
        "print(another_list)"
      ],
      "metadata": {
        "colab": {
          "base_uri": "https://localhost:8080/"
        },
        "id": "xglyH5dv_QBn",
        "outputId": "9860d755-bd43-4cfc-e30c-c5117753c13d"
      },
      "execution_count": 10,
      "outputs": [
        {
          "output_type": "stream",
          "name": "stdout",
          "text": [
            "[1, 2, 4, 5]\n"
          ]
        }
      ]
    },
    {
      "cell_type": "code",
      "source": [
        "# Q9.  Write a code to access the second element in the list ['a', 'b', 'c', 'd']\n",
        "char_list = ['a', 'b', 'c', 'd']\n",
        "second_element = char_list[1]\n",
        "print(second_element)"
      ],
      "metadata": {
        "colab": {
          "base_uri": "https://localhost:8080/"
        },
        "id": "k_Wy2D8S_Z6z",
        "outputId": "a8dae29e-1f48-484f-f4f1-0ed1ee4cdb4e"
      },
      "execution_count": 11,
      "outputs": [
        {
          "output_type": "stream",
          "name": "stdout",
          "text": [
            "b\n"
          ]
        }
      ]
    },
    {
      "cell_type": "code",
      "source": [
        "# Q10.  Write a code to reverse the list [10, 20, 30, 40, 50].\n",
        "reverse_list = [10, 20, 30, 40, 50]\n",
        "reverse_list.reverse()\n",
        "print(reverse_list)"
      ],
      "metadata": {
        "colab": {
          "base_uri": "https://localhost:8080/"
        },
        "id": "VbPJxsg5_jPs",
        "outputId": "3f3b8140-4ea6-467f-a94b-14e1507ea268"
      },
      "execution_count": 12,
      "outputs": [
        {
          "output_type": "stream",
          "name": "stdout",
          "text": [
            "[50, 40, 30, 20, 10]\n"
          ]
        }
      ]
    },
    {
      "cell_type": "code",
      "source": [
        "# Q11. Write a code to create a tuple with the elements 100, 200, 300 and print it.\n",
        "my_tuple = (100, 200, 300)\n",
        "print(my_tuple)\n",
        "\n"
      ],
      "metadata": {
        "colab": {
          "base_uri": "https://localhost:8080/"
        },
        "id": "3WIJQzwi_sea",
        "outputId": "e60c9a0a-39ca-471f-b21b-3ae239d5f909"
      },
      "execution_count": 13,
      "outputs": [
        {
          "output_type": "stream",
          "name": "stdout",
          "text": [
            "(100, 200, 300)\n"
          ]
        }
      ]
    },
    {
      "cell_type": "code",
      "source": [
        "# Q12. Write a code to access the second-to-last element of the tuple ('red', 'green', 'blue', 'yellow').\n",
        "colors = ('red', 'green', 'blue', 'yellow')\n",
        "second_to_last = colors[-2]\n",
        "print(second_to_last)\n"
      ],
      "metadata": {
        "colab": {
          "base_uri": "https://localhost:8080/"
        },
        "id": "lVXxBNfiBXYx",
        "outputId": "4e75be8c-b59e-4a9c-f2c0-d04149c11553"
      },
      "execution_count": 14,
      "outputs": [
        {
          "output_type": "stream",
          "name": "stdout",
          "text": [
            "blue\n"
          ]
        }
      ]
    },
    {
      "cell_type": "code",
      "source": [
        "# Q13. Write a code to find the minimum number in the tuple (10, 20, 5, 15).\n",
        "numbers = (10, 20, 5, 15)\n",
        "minimum_number = min(numbers)\n",
        "print(minimum_number)"
      ],
      "metadata": {
        "colab": {
          "base_uri": "https://localhost:8080/"
        },
        "id": "NjUtKvFSBlyk",
        "outputId": "e3fb9d14-6f14-4a8d-8914-09c003318541"
      },
      "execution_count": 15,
      "outputs": [
        {
          "output_type": "stream",
          "name": "stdout",
          "text": [
            "5\n"
          ]
        }
      ]
    },
    {
      "cell_type": "code",
      "source": [
        "# Q14. Write a code to find the index of the element \"cat\" in the tuple ('dog', 'cat', 'rabbit').\n",
        "animals = ('dog', 'cat', 'rabbit')\n",
        "index_of_cat = animals.index('cat')\n",
        "print(index_of_cat)"
      ],
      "metadata": {
        "colab": {
          "base_uri": "https://localhost:8080/"
        },
        "id": "2BpFNg_iBtUx",
        "outputId": "deae31b4-68a9-425a-a9b3-bae014f35ed5"
      },
      "execution_count": 16,
      "outputs": [
        {
          "output_type": "stream",
          "name": "stdout",
          "text": [
            "1\n"
          ]
        }
      ]
    },
    {
      "cell_type": "code",
      "source": [
        "# Q15. Write a code to create a tuple containing three different fruits and check if \"kiwi\" is in it\n",
        "fruits = ('apple', 'kiwi', 'orange')\n",
        "is_kiwi_in_fruits = 'kiwi' in fruits\n",
        "print(is_kiwi_in_fruits)"
      ],
      "metadata": {
        "colab": {
          "base_uri": "https://localhost:8080/"
        },
        "id": "ZCCK2b00B4kP",
        "outputId": "842e49c1-ce44-4284-fe8a-19d8b23f23ee"
      },
      "execution_count": 19,
      "outputs": [
        {
          "output_type": "stream",
          "name": "stdout",
          "text": [
            "True\n"
          ]
        }
      ]
    },
    {
      "cell_type": "code",
      "source": [
        "# Q16. Write a code to create a set with the elements 'a', 'b', 'c' and print it\n",
        "my_set = {'a', 'b', 'c'}\n",
        "print(my_set)"
      ],
      "metadata": {
        "colab": {
          "base_uri": "https://localhost:8080/"
        },
        "id": "NIzqSldiCJkI",
        "outputId": "9318e3ac-ee34-47dc-8291-f0b07f03022e"
      },
      "execution_count": 18,
      "outputs": [
        {
          "output_type": "stream",
          "name": "stdout",
          "text": [
            "{'a', 'b', 'c'}\n"
          ]
        }
      ]
    },
    {
      "cell_type": "code",
      "source": [
        "# Q17. Write a code to clear all elements from the set {1, 2, 3, 4, 5}.\n",
        "my_set = {1, 2, 3, 4, 5}\n",
        "my_set.clear()\n",
        "print(my_set)"
      ],
      "metadata": {
        "colab": {
          "base_uri": "https://localhost:8080/"
        },
        "id": "MKaJvZMaCdy_",
        "outputId": "a6413038-da28-4b23-af10-67035dea2428"
      },
      "execution_count": 20,
      "outputs": [
        {
          "output_type": "stream",
          "name": "stdout",
          "text": [
            "set()\n"
          ]
        }
      ]
    },
    {
      "cell_type": "code",
      "source": [
        "# Q18. Write a code to remove the element 4 from the set {1, 2, 3, 4}\n",
        "my_set = {1, 2, 3, 4}\n",
        "my_set.remove(4)\n",
        "print(my_set)"
      ],
      "metadata": {
        "colab": {
          "base_uri": "https://localhost:8080/"
        },
        "id": "8pcD8ETXCmPP",
        "outputId": "df703861-c702-4928-ac86-2230cd8ce57d"
      },
      "execution_count": 21,
      "outputs": [
        {
          "output_type": "stream",
          "name": "stdout",
          "text": [
            "{1, 2, 3}\n"
          ]
        }
      ]
    },
    {
      "cell_type": "code",
      "source": [
        "# Q19. Write a code to find the union of two sets {1, 2, 3} and {3, 4, 5}.\n",
        "set1 = {1, 2, 3}\n",
        "set2 = {3, 4, 5}\n",
        "union_set = set1.union(set2)\n",
        "print(union_set)"
      ],
      "metadata": {
        "colab": {
          "base_uri": "https://localhost:8080/"
        },
        "id": "skwdudPsCw4b",
        "outputId": "db20c487-b74e-4a88-eeab-b6bedc208649"
      },
      "execution_count": 22,
      "outputs": [
        {
          "output_type": "stream",
          "name": "stdout",
          "text": [
            "{1, 2, 3, 4, 5}\n"
          ]
        }
      ]
    },
    {
      "cell_type": "code",
      "source": [
        "# Q20. Write a code to find the intersection of two sets {1, 2, 3} and {2, 3, 4}.\n",
        "set1 = {1, 2, 3}\n",
        "set2 = {2, 3, 4}\n",
        "intersection_set = set1.intersection(set2)\n",
        "print(intersection_set)"
      ],
      "metadata": {
        "colab": {
          "base_uri": "https://localhost:8080/"
        },
        "id": "1lp8Kg9mC4g7",
        "outputId": "d250286d-d134-4830-d65f-f776301cc3f6"
      },
      "execution_count": 23,
      "outputs": [
        {
          "output_type": "stream",
          "name": "stdout",
          "text": [
            "{2, 3}\n"
          ]
        }
      ]
    },
    {
      "cell_type": "code",
      "source": [
        "# Q21. Write a code to create a dictionary with the keys \"name\", \"age\", and \"city\", and print it.\n",
        "my_dict = {\"name\": \"Roshi\", \"age\": 20, \"city\": \"Delhi\"}\n",
        "print(my_dict)"
      ],
      "metadata": {
        "colab": {
          "base_uri": "https://localhost:8080/"
        },
        "id": "FLAzvBLhDITw",
        "outputId": "dd39cdf3-f39c-4e9c-d2ee-80756a4ea555"
      },
      "execution_count": 25,
      "outputs": [
        {
          "output_type": "stream",
          "name": "stdout",
          "text": [
            "{'name': 'Roshi', 'age': 20, 'city': 'Delhi'}\n"
          ]
        }
      ]
    },
    {
      "cell_type": "code",
      "source": [
        "# Q22. Write a code to add a new key-value pair \"country\": \"USA\" to the dictionary {'name': 'John', 'age': 25}.\n",
        "my_dict = {'name': 'John', 'age': 25}\n",
        "my_dict['country'] = 'USA'\n",
        "print(my_dict)"
      ],
      "metadata": {
        "colab": {
          "base_uri": "https://localhost:8080/"
        },
        "id": "dwrIqHzJMR8x",
        "outputId": "8c0ffe2b-5948-4e7c-9266-56fb95ec0394"
      },
      "execution_count": 26,
      "outputs": [
        {
          "output_type": "stream",
          "name": "stdout",
          "text": [
            "{'name': 'John', 'age': 25, 'country': 'USA'}\n"
          ]
        }
      ]
    },
    {
      "cell_type": "code",
      "source": [
        "# Q23. Write a code to access the value associated with the key \"name\" in the dictionary {'name': 'Alice', 'age': 30}.\n",
        "my_dict = {'name': 'Alice', 'age': 30}\n",
        "name_value = my_dict['name']\n",
        "print(name_value)"
      ],
      "metadata": {
        "colab": {
          "base_uri": "https://localhost:8080/"
        },
        "id": "vh1ygQeYMdb9",
        "outputId": "fe9c3847-2c3f-4a16-fa24-5ac44a49d3fe"
      },
      "execution_count": 27,
      "outputs": [
        {
          "output_type": "stream",
          "name": "stdout",
          "text": [
            "Alice\n"
          ]
        }
      ]
    },
    {
      "cell_type": "code",
      "source": [
        "# Q24.  Write a code to remove the key \"age\" from the dictionary {'name': 'Bob', 'age': 22, 'city': 'New York'}\n",
        "my_dict = {'name': 'Bob', 'age': 22, 'city': 'New York'}\n",
        "del my_dict['age']\n",
        "print(my_dict)"
      ],
      "metadata": {
        "colab": {
          "base_uri": "https://localhost:8080/"
        },
        "id": "6QTOLv6eMtii",
        "outputId": "0901c01c-eee0-4358-b685-6e0a0e87fa70"
      },
      "execution_count": 28,
      "outputs": [
        {
          "output_type": "stream",
          "name": "stdout",
          "text": [
            "{'name': 'Bob', 'city': 'New York'}\n"
          ]
        }
      ]
    },
    {
      "cell_type": "code",
      "source": [
        "# Q25. Write a code to check if the key \"city\" exists in the dictionary {'name': 'Alice', 'city': 'Paris'}\n",
        "my_dict = {'name': 'Alice', 'city': 'Paris'}\n",
        "exists = 'city' in my_dict\n",
        "print(exists)"
      ],
      "metadata": {
        "colab": {
          "base_uri": "https://localhost:8080/"
        },
        "id": "QnqV_nVdM5Rm",
        "outputId": "ddcc11b2-999d-40b3-f547-fd73bb4adfa0"
      },
      "execution_count": 29,
      "outputs": [
        {
          "output_type": "stream",
          "name": "stdout",
          "text": [
            "True\n"
          ]
        }
      ]
    },
    {
      "cell_type": "code",
      "source": [
        "# Q26. Write a code to create a list, a tuple, and a dictionary, and print them all.\n",
        "my_list = [1, 2, 3, 4, 5]\n",
        "my_tuple = (1, 2, 3)\n",
        "my_dict = {'key1': 'value1', 'key2': 'value2'}\n",
        "print(my_list)\n",
        "print(my_tuple)\n",
        "print(my_dict)"
      ],
      "metadata": {
        "colab": {
          "base_uri": "https://localhost:8080/"
        },
        "id": "F3LuYYHhNGUA",
        "outputId": "06428c5a-89a8-46f5-8e0d-6acf2b13eefa"
      },
      "execution_count": 30,
      "outputs": [
        {
          "output_type": "stream",
          "name": "stdout",
          "text": [
            "[1, 2, 3, 4, 5]\n",
            "(1, 2, 3)\n",
            "{'key1': 'value1', 'key2': 'value2'}\n"
          ]
        }
      ]
    },
    {
      "cell_type": "code",
      "source": [
        "# Q27. Write a code to create a list of 5 random numbers between 1 and 100, sort it in ascending order, and print the result (replaced)\n",
        "import random\n",
        "\n",
        "random_numbers = random.sample(range(1, 101), 5)\n",
        "random_numbers.sort()\n",
        "print(random_numbers)"
      ],
      "metadata": {
        "colab": {
          "base_uri": "https://localhost:8080/"
        },
        "id": "Qamo0g2nNPUI",
        "outputId": "cdf97c4d-6beb-4541-8dbf-585601f3135d"
      },
      "execution_count": 32,
      "outputs": [
        {
          "output_type": "stream",
          "name": "stdout",
          "text": [
            "[8, 29, 75, 84, 99]\n"
          ]
        }
      ]
    },
    {
      "cell_type": "code",
      "source": [
        "# Q28. Write a code to create a list with strings and print the element at the third index\n",
        "my_list = ['apple', 'banana', 'cherry', 'date', 'elderberry']\n",
        "print(my_list[3])"
      ],
      "metadata": {
        "colab": {
          "base_uri": "https://localhost:8080/"
        },
        "id": "tIC1SAGZNtr5",
        "outputId": "140210bc-79fd-44e2-a11e-bfefb7099670"
      },
      "execution_count": 34,
      "outputs": [
        {
          "output_type": "stream",
          "name": "stdout",
          "text": [
            "date\n"
          ]
        }
      ]
    },
    {
      "cell_type": "code",
      "source": [
        "# Q29. Write a code to combine two dictionaries into one and print the result\n",
        "dict1 = {'a': 1, 'b': 2}\n",
        "dict2 = {'b': 3, 'c': 4}  # Note: 'b' will be overwritten\n",
        "combined_dict = {**dict1, **dict2}\n",
        "print(combined_dict)"
      ],
      "metadata": {
        "colab": {
          "base_uri": "https://localhost:8080/"
        },
        "id": "cb7QNvh3OGjH",
        "outputId": "608fe210-87b9-4d98-8005-c040d9a70ddc"
      },
      "execution_count": 35,
      "outputs": [
        {
          "output_type": "stream",
          "name": "stdout",
          "text": [
            "{'a': 1, 'b': 3, 'c': 4}\n"
          ]
        }
      ]
    },
    {
      "cell_type": "code",
      "source": [
        "# Q30.  Write a code to convert a list of strings into a set\n",
        "my_list = ['apple', 'banana', 'apple', 'cherry']\n",
        "my_set = set(my_list)\n",
        "print(my_set)"
      ],
      "metadata": {
        "colab": {
          "base_uri": "https://localhost:8080/"
        },
        "id": "iYEJOkfZO03J",
        "outputId": "47d05dea-ef29-4a0d-ac59-f1f9c8c0c0ab"
      },
      "execution_count": 37,
      "outputs": [
        {
          "output_type": "stream",
          "name": "stdout",
          "text": [
            "{'banana', 'apple', 'cherry'}\n"
          ]
        }
      ]
    }
  ]
}